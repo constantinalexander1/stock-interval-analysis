{
 "cells": [
  {
   "cell_type": "markdown",
   "metadata": {},
   "source": [
    "# CMD Args"
   ]
  },
  {
   "cell_type": "code",
   "execution_count": 2,
   "metadata": {},
   "outputs": [],
   "source": [
    "%load_ext autoreload\n",
    "%autoreload 2\n",
    "%matplotlib inline"
   ]
  },
  {
   "cell_type": "markdown",
   "metadata": {},
   "source": [
    "# Setup"
   ]
  },
  {
   "cell_type": "code",
   "execution_count": 23,
   "metadata": {},
   "outputs": [],
   "source": [
    "import numpy as np\n",
    "import pandas as pd\n",
    "import matplotlib.pyplot as plt\n",
    "import matplotlib.dates as mdates\n",
    "import seaborn as sns; sns.set()\n",
    "from pathlib import Path\n",
    "import os, sys\n",
    "import shutil\n",
    "from time import sleep\n",
    "from tqdm import tqdm\n",
    "import csv"
   ]
  },
  {
   "cell_type": "markdown",
   "metadata": {},
   "source": [
    "# Data Loading"
   ]
  },
  {
   "cell_type": "code",
   "execution_count": 5,
   "metadata": {},
   "outputs": [],
   "source": [
    "filename = \"IBM_2023-11-22.csv\"\n",
    "\n",
    "current_path_raw = os.getcwd()\n",
    "current_path = Path(current_path_raw)\n",
    "stored_path = str(current_path.parent) + \"/sample_data/\" + filename\n",
    "\n",
    "stock_data = [] # [(datetime string, price)]\n",
    "\n",
    "with open(stored_path) as file:\n",
    "    # file structure (cols): date,open,high,low,close,volume\n",
    "    \n",
    "    reader = csv.reader(file)\n",
    "    next(reader, None) # Skip header row\n",
    "    \n",
    "    for row in reader:    \n",
    "        stock_data.append((row[0], row[1]))\n",
    "        \n",
    "stock_data = stock_data[::-1]"
   ]
  },
  {
   "cell_type": "markdown",
   "metadata": {},
   "source": [
    "# Helper Functions"
   ]
  },
  {
   "cell_type": "code",
   "execution_count": 42,
   "metadata": {},
   "outputs": [],
   "source": [
    "def plot_line_chart(datetimes, prices):\n",
    "    xpoints = np.array(datetimes)\n",
    "    ypoints = np.array(prices)\n",
    "\n",
    "    plt.plot(xpoints, ypoints)\n",
    "    plt.show()\n",
    "    \n",
    "    \n",
    "def plot_line_chart_seaborne(datetimes, prices):\n",
    "    df = pd.DataFrame(list(zip(datetimes, prices)),\n",
    "               columns =['Time', 'Prices'])\n",
    "    \n",
    "    plt.figure(figsize=(14,5))\n",
    "    \n",
    "    sns.set_style(\"ticks\")\n",
    "    chart = sns.lineplot(data=df,x=\"Time\",y='Prices',color='firebrick')\n",
    "    #sns.despine()\n",
    "\n",
    "    plt.xticks(rotation=45,horizontalalignment='right',fontweight='light')\n",
    "    locator = mdates.DayLocator(interval=70)\n",
    "    chart.xaxis.set_major_locator(locator)\n",
    "\n",
    "    plt.show()\n",
    "    \n",
    "def split_into_datetimes_prices(stock_data):\n",
    "    datetimes, prices = zip(*stock_data)\n",
    "    return datetimes, prices\n",
    "    \n",
    "# day in the format: 'YYYY-MM-DD'\n",
    "def get_day_data(stock_data, day):\n",
    "    return list(filter(lambda entry: entry[0].startswith(day),stock_data))\n",
    "\n",
    "def get_day_data_cropped(stock_data, day):\n",
    "    # Drop first 70 and last 40 entries due to missing data entries at the edges\n",
    "    res = get_day_data(stock_data, day)\n",
    "    res = res[70:-40]\n",
    "    return res"
   ]
  },
  {
   "cell_type": "code",
   "execution_count": 43,
   "metadata": {},
   "outputs": [
    {
     "ename": "TypeError",
     "evalue": "float() argument must be a string or a real number, not 'tuple'",
     "output_type": "error",
     "traceback": [
      "\u001b[0;31m---------------------------------------------------------------------------\u001b[0m",
      "\u001b[0;31mTypeError\u001b[0m                                 Traceback (most recent call last)",
      "Cell \u001b[0;32mIn[43], line 1\u001b[0m\n\u001b[0;32m----> 1\u001b[0m datetimes, prices \u001b[38;5;241m=\u001b[39m split_into_datetimes_prices(get_day_data_cropped(stock_data, \u001b[38;5;124m\"\u001b[39m\u001b[38;5;124m2023-11-21\u001b[39m\u001b[38;5;124m\"\u001b[39m))\n\u001b[1;32m      2\u001b[0m plot_line_chart_seaborne(datetimes, prices)\n",
      "Cell \u001b[0;32mIn[42], line 27\u001b[0m, in \u001b[0;36msplit_into_datetimes_prices\u001b[0;34m(stock_data)\u001b[0m\n\u001b[1;32m     25\u001b[0m \u001b[38;5;28;01mdef\u001b[39;00m \u001b[38;5;21msplit_into_datetimes_prices\u001b[39m(stock_data):\n\u001b[1;32m     26\u001b[0m     datetimes, prices \u001b[38;5;241m=\u001b[39m \u001b[38;5;28mzip\u001b[39m(\u001b[38;5;241m*\u001b[39mstock_data)\n\u001b[0;32m---> 27\u001b[0m     \u001b[38;5;28;01mreturn\u001b[39;00m datetimes, \u001b[38;5;28mfloat\u001b[39m(prices)\n",
      "\u001b[0;31mTypeError\u001b[0m: float() argument must be a string or a real number, not 'tuple'"
     ]
    }
   ],
   "source": [
    "datetimes, prices = split_into_datetimes_prices(get_day_data_cropped(stock_data, \"2023-11-21\"))\n",
    "plot_line_chart_seaborne(datetimes, prices)"
   ]
  },
  {
   "cell_type": "code",
   "execution_count": 12,
   "metadata": {},
   "outputs": [
    {
     "name": "stdout",
     "output_type": "stream",
     "text": [
      "\n"
     ]
    }
   ],
   "source": []
  },
  {
   "cell_type": "code",
   "execution_count": null,
   "metadata": {},
   "outputs": [],
   "source": []
  },
  {
   "cell_type": "code",
   "execution_count": null,
   "metadata": {},
   "outputs": [],
   "source": []
  }
 ],
 "metadata": {
  "kernelspec": {
   "display_name": "Python 3 (ipykernel)",
   "language": "python",
   "name": "python3"
  },
  "language_info": {
   "codemirror_mode": {
    "name": "ipython",
    "version": 3
   },
   "file_extension": ".py",
   "mimetype": "text/x-python",
   "name": "python",
   "nbconvert_exporter": "python",
   "pygments_lexer": "ipython3",
   "version": "3.11.5"
  }
 },
 "nbformat": 4,
 "nbformat_minor": 2
}
